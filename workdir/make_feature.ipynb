{
 "cells": [
  {
   "cell_type": "code",
   "execution_count": 1,
   "metadata": {},
   "outputs": [],
   "source": [
    "import pandas as pd\n",
    "import numpy as np\n",
    "from datetime import datetime, date, timedelta"
   ]
  },
  {
   "cell_type": "markdown",
   "metadata": {},
   "source": [
    "## データの読み込み"
   ]
  },
  {
   "cell_type": "code",
   "execution_count": 2,
   "metadata": {},
   "outputs": [],
   "source": [
    "df_train = pd.read_csv(\"train.csv\")\n",
    "df_test = pd.read_csv(\"test.csv\")"
   ]
  },
  {
   "cell_type": "code",
   "execution_count": 3,
   "metadata": {},
   "outputs": [
    {
     "data": {
      "text/html": [
       "<div>\n",
       "<style scoped>\n",
       "    .dataframe tbody tr th:only-of-type {\n",
       "        vertical-align: middle;\n",
       "    }\n",
       "\n",
       "    .dataframe tbody tr th {\n",
       "        vertical-align: top;\n",
       "    }\n",
       "\n",
       "    .dataframe thead th {\n",
       "        text-align: right;\n",
       "    }\n",
       "</style>\n",
       "<table border=\"1\" class=\"dataframe\">\n",
       "  <thead>\n",
       "    <tr style=\"text-align: right;\">\n",
       "      <th></th>\n",
       "      <th>datetime</th>\n",
       "      <th>y</th>\n",
       "      <th>week</th>\n",
       "      <th>soldout</th>\n",
       "      <th>name</th>\n",
       "      <th>kcal</th>\n",
       "      <th>remarks</th>\n",
       "      <th>event</th>\n",
       "      <th>payday</th>\n",
       "      <th>weather</th>\n",
       "      <th>precipitation</th>\n",
       "      <th>temperature</th>\n",
       "    </tr>\n",
       "  </thead>\n",
       "  <tbody>\n",
       "    <tr>\n",
       "      <th>0</th>\n",
       "      <td>2013-11-18</td>\n",
       "      <td>90</td>\n",
       "      <td>月</td>\n",
       "      <td>0</td>\n",
       "      <td>厚切りイカフライ</td>\n",
       "      <td>NaN</td>\n",
       "      <td>NaN</td>\n",
       "      <td>NaN</td>\n",
       "      <td>NaN</td>\n",
       "      <td>快晴</td>\n",
       "      <td>--</td>\n",
       "      <td>19.8</td>\n",
       "    </tr>\n",
       "    <tr>\n",
       "      <th>1</th>\n",
       "      <td>2013-11-19</td>\n",
       "      <td>101</td>\n",
       "      <td>火</td>\n",
       "      <td>1</td>\n",
       "      <td>手作りヒレカツ</td>\n",
       "      <td>NaN</td>\n",
       "      <td>NaN</td>\n",
       "      <td>NaN</td>\n",
       "      <td>NaN</td>\n",
       "      <td>快晴</td>\n",
       "      <td>--</td>\n",
       "      <td>17.0</td>\n",
       "    </tr>\n",
       "    <tr>\n",
       "      <th>2</th>\n",
       "      <td>2013-11-20</td>\n",
       "      <td>118</td>\n",
       "      <td>水</td>\n",
       "      <td>0</td>\n",
       "      <td>白身魚唐揚げ野菜あん</td>\n",
       "      <td>NaN</td>\n",
       "      <td>NaN</td>\n",
       "      <td>NaN</td>\n",
       "      <td>NaN</td>\n",
       "      <td>快晴</td>\n",
       "      <td>--</td>\n",
       "      <td>15.5</td>\n",
       "    </tr>\n",
       "    <tr>\n",
       "      <th>3</th>\n",
       "      <td>2013-11-21</td>\n",
       "      <td>120</td>\n",
       "      <td>木</td>\n",
       "      <td>1</td>\n",
       "      <td>若鶏ピリ辛焼</td>\n",
       "      <td>NaN</td>\n",
       "      <td>NaN</td>\n",
       "      <td>NaN</td>\n",
       "      <td>NaN</td>\n",
       "      <td>快晴</td>\n",
       "      <td>--</td>\n",
       "      <td>15.2</td>\n",
       "    </tr>\n",
       "    <tr>\n",
       "      <th>4</th>\n",
       "      <td>2013-11-22</td>\n",
       "      <td>130</td>\n",
       "      <td>金</td>\n",
       "      <td>1</td>\n",
       "      <td>ビッグメンチカツ</td>\n",
       "      <td>NaN</td>\n",
       "      <td>NaN</td>\n",
       "      <td>NaN</td>\n",
       "      <td>NaN</td>\n",
       "      <td>快晴</td>\n",
       "      <td>--</td>\n",
       "      <td>16.1</td>\n",
       "    </tr>\n",
       "  </tbody>\n",
       "</table>\n",
       "</div>"
      ],
      "text/plain": [
       "     datetime    y week  soldout        name  kcal remarks event  payday  \\\n",
       "0  2013-11-18   90    月        0    厚切りイカフライ   NaN     NaN   NaN     NaN   \n",
       "1  2013-11-19  101    火        1     手作りヒレカツ   NaN     NaN   NaN     NaN   \n",
       "2  2013-11-20  118    水        0  白身魚唐揚げ野菜あん   NaN     NaN   NaN     NaN   \n",
       "3  2013-11-21  120    木        1      若鶏ピリ辛焼   NaN     NaN   NaN     NaN   \n",
       "4  2013-11-22  130    金        1    ビッグメンチカツ   NaN     NaN   NaN     NaN   \n",
       "\n",
       "  weather precipitation  temperature  \n",
       "0      快晴            --         19.8  \n",
       "1      快晴            --         17.0  \n",
       "2      快晴            --         15.5  \n",
       "3      快晴            --         15.2  \n",
       "4      快晴            --         16.1  "
      ]
     },
     "metadata": {},
     "output_type": "display_data"
    },
    {
     "data": {
      "text/html": [
       "<div>\n",
       "<style scoped>\n",
       "    .dataframe tbody tr th:only-of-type {\n",
       "        vertical-align: middle;\n",
       "    }\n",
       "\n",
       "    .dataframe tbody tr th {\n",
       "        vertical-align: top;\n",
       "    }\n",
       "\n",
       "    .dataframe thead th {\n",
       "        text-align: right;\n",
       "    }\n",
       "</style>\n",
       "<table border=\"1\" class=\"dataframe\">\n",
       "  <thead>\n",
       "    <tr style=\"text-align: right;\">\n",
       "      <th></th>\n",
       "      <th>datetime</th>\n",
       "      <th>week</th>\n",
       "      <th>soldout</th>\n",
       "      <th>name</th>\n",
       "      <th>kcal</th>\n",
       "      <th>remarks</th>\n",
       "      <th>event</th>\n",
       "      <th>payday</th>\n",
       "      <th>weather</th>\n",
       "      <th>precipitation</th>\n",
       "      <th>temperature</th>\n",
       "    </tr>\n",
       "  </thead>\n",
       "  <tbody>\n",
       "    <tr>\n",
       "      <th>0</th>\n",
       "      <td>2014-10-1</td>\n",
       "      <td>水</td>\n",
       "      <td>1</td>\n",
       "      <td>メンチカツ</td>\n",
       "      <td>420.0</td>\n",
       "      <td>NaN</td>\n",
       "      <td>NaN</td>\n",
       "      <td>NaN</td>\n",
       "      <td>雨</td>\n",
       "      <td>0</td>\n",
       "      <td>20.2</td>\n",
       "    </tr>\n",
       "    <tr>\n",
       "      <th>1</th>\n",
       "      <td>2014-10-2</td>\n",
       "      <td>木</td>\n",
       "      <td>0</td>\n",
       "      <td>バーベキューチキン</td>\n",
       "      <td>415.0</td>\n",
       "      <td>NaN</td>\n",
       "      <td>NaN</td>\n",
       "      <td>NaN</td>\n",
       "      <td>曇</td>\n",
       "      <td>--</td>\n",
       "      <td>23.9</td>\n",
       "    </tr>\n",
       "    <tr>\n",
       "      <th>2</th>\n",
       "      <td>2014-10-3</td>\n",
       "      <td>金</td>\n",
       "      <td>0</td>\n",
       "      <td>豚肉のマスタード焼き</td>\n",
       "      <td>405.0</td>\n",
       "      <td>NaN</td>\n",
       "      <td>NaN</td>\n",
       "      <td>NaN</td>\n",
       "      <td>晴れ</td>\n",
       "      <td>--</td>\n",
       "      <td>28.7</td>\n",
       "    </tr>\n",
       "    <tr>\n",
       "      <th>3</th>\n",
       "      <td>2014-10-6</td>\n",
       "      <td>月</td>\n",
       "      <td>1</td>\n",
       "      <td>麻婆春雨</td>\n",
       "      <td>400.0</td>\n",
       "      <td>NaN</td>\n",
       "      <td>NaN</td>\n",
       "      <td>NaN</td>\n",
       "      <td>雨</td>\n",
       "      <td>0.5</td>\n",
       "      <td>21.5</td>\n",
       "    </tr>\n",
       "    <tr>\n",
       "      <th>4</th>\n",
       "      <td>2014-10-7</td>\n",
       "      <td>火</td>\n",
       "      <td>0</td>\n",
       "      <td>厚揚げ肉みそ炒め</td>\n",
       "      <td>430.0</td>\n",
       "      <td>NaN</td>\n",
       "      <td>NaN</td>\n",
       "      <td>NaN</td>\n",
       "      <td>晴れ</td>\n",
       "      <td>--</td>\n",
       "      <td>22.1</td>\n",
       "    </tr>\n",
       "  </tbody>\n",
       "</table>\n",
       "</div>"
      ],
      "text/plain": [
       "    datetime week  soldout        name   kcal remarks event  payday weather  \\\n",
       "0  2014-10-1    水        1       メンチカツ  420.0     NaN   NaN     NaN       雨   \n",
       "1  2014-10-2    木        0   バーベキューチキン  415.0     NaN   NaN     NaN       曇   \n",
       "2  2014-10-3    金        0  豚肉のマスタード焼き  405.0     NaN   NaN     NaN      晴れ   \n",
       "3  2014-10-6    月        1        麻婆春雨  400.0     NaN   NaN     NaN       雨   \n",
       "4  2014-10-7    火        0    厚揚げ肉みそ炒め  430.0     NaN   NaN     NaN      晴れ   \n",
       "\n",
       "  precipitation  temperature  \n",
       "0             0         20.2  \n",
       "1            --         23.9  \n",
       "2            --         28.7  \n",
       "3           0.5         21.5  \n",
       "4            --         22.1  "
      ]
     },
     "metadata": {},
     "output_type": "display_data"
    }
   ],
   "source": [
    "display(df_train.head())\n",
    "display(df_test.head())"
   ]
  },
  {
   "cell_type": "markdown",
   "metadata": {},
   "source": [
    "## trainとtestは結合して処理する\n",
    "- メニューやイベントにおいてどちらかにないというのにフラグがたてられないため"
   ]
  },
  {
   "cell_type": "code",
   "execution_count": 4,
   "metadata": {},
   "outputs": [],
   "source": [
    "df_train.loc[:, \"data_flg\"] = 1\n",
    "df_test.loc[:, \"data_flg\"] = 0\n",
    "df_test.loc[:, \"y\"] = np.nan\n",
    "df_test = df_test[df_train.columns]"
   ]
  },
  {
   "cell_type": "code",
   "execution_count": 5,
   "metadata": {},
   "outputs": [],
   "source": [
    "dataset_df = pd.concat([df_train, df_test])"
   ]
  },
  {
   "cell_type": "markdown",
   "metadata": {},
   "source": [
    "## 時間の処理をしておく"
   ]
  },
  {
   "cell_type": "code",
   "execution_count": 6,
   "metadata": {},
   "outputs": [],
   "source": [
    "dataset_df[\"datetime\"] = pd.to_datetime(dataset_df[\"datetime\"])"
   ]
  },
  {
   "cell_type": "markdown",
   "metadata": {},
   "source": [
    "## カテゴリ化する"
   ]
  },
  {
   "cell_type": "code",
   "execution_count": 7,
   "metadata": {},
   "outputs": [],
   "source": [
    "def make_dummies(df_c):\n",
    "    source = df_c.copy()\n",
    "    dummy_df = pd.DataFrame([])\n",
    "    dummy_col = [\"week\", \"remarks\", \"event\"]\n",
    "    for col in dummy_col:\n",
    "        dummy = pd.get_dummies(df_c[col])\n",
    "        dummy_df = pd.concat([dummy_df, dummy], axis=1)\n",
    "    source = source.drop(dummy_col, axis = 1)\n",
    "    \n",
    "    return pd.concat([source, dummy_df], axis=1)"
   ]
  },
  {
   "cell_type": "code",
   "execution_count": 8,
   "metadata": {},
   "outputs": [],
   "source": [
    "dataset_df = make_dummies(dataset_df)"
   ]
  },
  {
   "cell_type": "markdown",
   "metadata": {},
   "source": [
    "## 天気を数値へ変換する\n",
    "|天気コード|天気|\n",
    "|-------|----|\n",
    "|快晴|1|\n",
    "|晴れ|2|\n",
    "|薄曇|3|\n",
    "|曇  |4|\n",
    "|雨  |5|\n",
    "|雪  |6|\n",
    "|雷電 |7|"
   ]
  },
  {
   "cell_type": "code",
   "execution_count": 9,
   "metadata": {},
   "outputs": [],
   "source": [
    "weather_dict = {\"快晴\":1, \"晴れ\":2, \"薄曇\":3, \"曇\":4, \"雨\":5, \"雪\":6, \"雷電\":7}"
   ]
  },
  {
   "cell_type": "code",
   "execution_count": 10,
   "metadata": {},
   "outputs": [],
   "source": [
    "dataset_df[\"weather\"] = dataset_df[\"weather\"].map(lambda x: weather_dict[x])"
   ]
  },
  {
   "cell_type": "markdown",
   "metadata": {},
   "source": [
    "## 降水量の置換"
   ]
  },
  {
   "cell_type": "code",
   "execution_count": 11,
   "metadata": {},
   "outputs": [],
   "source": [
    "dataset_df[\"precipitation\"] = dataset_df[\"precipitation\"].map(lambda x: 0 if x==\"--\" else x)"
   ]
  },
  {
   "cell_type": "code",
   "execution_count": 12,
   "metadata": {},
   "outputs": [],
   "source": [
    "dataset_df.to_csv(\"dataset_df.csv\", index=False)"
   ]
  },
  {
   "cell_type": "markdown",
   "metadata": {},
   "source": [
    "## 給料日の経過日数"
   ]
  },
  {
   "cell_type": "code",
   "execution_count": 13,
   "metadata": {},
   "outputs": [],
   "source": [
    "pay_df = pd.read_csv(\"給料日日付データ.csv\")"
   ]
  },
  {
   "cell_type": "code",
   "execution_count": 14,
   "metadata": {},
   "outputs": [
    {
     "name": "stderr",
     "output_type": "stream",
     "text": [
      "/opt/conda/lib/python3.7/site-packages/ipykernel_launcher.py:5: SettingWithCopyWarning: \n",
      "A value is trying to be set on a copy of a slice from a DataFrame.\n",
      "Try using .loc[row_indexer,col_indexer] = value instead\n",
      "\n",
      "See the caveats in the documentation: http://pandas.pydata.org/pandas-docs/stable/user_guide/indexing.html#returning-a-view-versus-a-copy\n",
      "  \"\"\"\n",
      "/opt/conda/lib/python3.7/site-packages/ipykernel_launcher.py:6: SettingWithCopyWarning: \n",
      "A value is trying to be set on a copy of a slice from a DataFrame.\n",
      "Try using .loc[row_indexer,col_indexer] = value instead\n",
      "\n",
      "See the caveats in the documentation: http://pandas.pydata.org/pandas-docs/stable/user_guide/indexing.html#returning-a-view-versus-a-copy\n",
      "  \n"
     ]
    }
   ],
   "source": [
    "pay_df[\"datetime\"] = pd.to_datetime(pay_df[\"datetime\"])\n",
    "pay_df[\"経過終了日\"] = pay_df[\"datetime\"]\n",
    "pay_df = pay_df.set_index(\"datetime\")\n",
    "pay_day = pay_df[pay_df[\"給料日\"] == 1]\n",
    "pay_day[\"経過開始日\"] = pay_day[\"経過終了日\"].shift()\n",
    "pay_day[\"経過終了日\"] = pay_day[\"経過終了日\"] - timedelta(days=1)"
   ]
  },
  {
   "cell_type": "code",
   "execution_count": 15,
   "metadata": {},
   "outputs": [],
   "source": [
    "keika_df = pd.DataFrame([])\n",
    "for d in pay_day[[\"経過開始日\", \"経過終了日\"]].values:\n",
    "    temp = pay_df[d[0]: d[1]].reset_index(drop=False).reset_index(drop=False)\n",
    "    temp = temp[[\"datetime\",\"index\"]]\n",
    "    keika_df = pd.concat([keika_df, temp])\n",
    "keika_df = keika_df.rename(columns={\"index\": \"給料日経過日数\"})\n",
    "keika_df[\"給料日経過日数\"] = keika_df.loc[:, \"給料日経過日数\"] + 1"
   ]
  },
  {
   "cell_type": "code",
   "execution_count": 16,
   "metadata": {},
   "outputs": [
    {
     "data": {
      "text/html": [
       "<div>\n",
       "<style scoped>\n",
       "    .dataframe tbody tr th:only-of-type {\n",
       "        vertical-align: middle;\n",
       "    }\n",
       "\n",
       "    .dataframe tbody tr th {\n",
       "        vertical-align: top;\n",
       "    }\n",
       "\n",
       "    .dataframe thead th {\n",
       "        text-align: right;\n",
       "    }\n",
       "</style>\n",
       "<table border=\"1\" class=\"dataframe\">\n",
       "  <thead>\n",
       "    <tr style=\"text-align: right;\">\n",
       "      <th></th>\n",
       "      <th>datetime</th>\n",
       "      <th>給料日経過日数</th>\n",
       "    </tr>\n",
       "  </thead>\n",
       "  <tbody>\n",
       "    <tr>\n",
       "      <th>0</th>\n",
       "      <td>2013-11-08</td>\n",
       "      <td>1</td>\n",
       "    </tr>\n",
       "    <tr>\n",
       "      <th>1</th>\n",
       "      <td>2013-11-09</td>\n",
       "      <td>2</td>\n",
       "    </tr>\n",
       "    <tr>\n",
       "      <th>2</th>\n",
       "      <td>2013-11-10</td>\n",
       "      <td>3</td>\n",
       "    </tr>\n",
       "    <tr>\n",
       "      <th>3</th>\n",
       "      <td>2013-11-11</td>\n",
       "      <td>4</td>\n",
       "    </tr>\n",
       "    <tr>\n",
       "      <th>4</th>\n",
       "      <td>2013-11-12</td>\n",
       "      <td>5</td>\n",
       "    </tr>\n",
       "  </tbody>\n",
       "</table>\n",
       "</div>"
      ],
      "text/plain": [
       "    datetime  給料日経過日数\n",
       "0 2013-11-08        1\n",
       "1 2013-11-09        2\n",
       "2 2013-11-10        3\n",
       "3 2013-11-11        4\n",
       "4 2013-11-12        5"
      ]
     },
     "execution_count": 16,
     "metadata": {},
     "output_type": "execute_result"
    }
   ],
   "source": [
    "keika_df.head()"
   ]
  },
  {
   "cell_type": "code",
   "execution_count": 17,
   "metadata": {},
   "outputs": [],
   "source": [
    "dataset_df = pd.merge(dataset_df, keika_df, how=\"left\", on=\"datetime\")\n",
    "dataset_df = dataset_df.drop(\"payday\", axis=1)"
   ]
  },
  {
   "cell_type": "markdown",
   "metadata": {},
   "source": [
    "## kcalの欠損を埋める"
   ]
  },
  {
   "cell_type": "code",
   "execution_count": 18,
   "metadata": {},
   "outputs": [],
   "source": [
    "menu_df = pd.read_csv(\"メニュー分類.csv\")\n",
    "menu_columns = list(menu_df.columns)\n",
    "menu_ = list(menu_df.columns)\n",
    "menu_.remove(\"name\")\n",
    "menu_columns.append(\"kcal\")"
   ]
  },
  {
   "cell_type": "code",
   "execution_count": 19,
   "metadata": {},
   "outputs": [],
   "source": [
    "#おいちゃん特性のメニュー分類の結合\n",
    "dataset_df = pd.merge(dataset_df, menu_df, how=\"left\", on=\"name\")"
   ]
  },
  {
   "cell_type": "code",
   "execution_count": 20,
   "metadata": {},
   "outputs": [
    {
     "name": "stdout",
     "output_type": "stream",
     "text": [
      "欠損メニュー数： 45\n"
     ]
    }
   ],
   "source": [
    "# 欠損と欠損じゃないのを分ける\n",
    "no_missing_tf = dataset_df[\"kcal\"] == dataset_df[\"kcal\"]\n",
    "no_missing_data = dataset_df[no_missing_tf]\n",
    "missing_data = dataset_df[~no_missing_tf]\n",
    "print (\"欠損メニュー数：\",missing_data[\"kcal\"].isnull().sum())"
   ]
  },
  {
   "cell_type": "markdown",
   "metadata": {},
   "source": [
    "#### 欠損を除外してkcalの平均を算出\n",
    "#### 重複メニューにkcalが入っていた場合はそれを使う"
   ]
  },
  {
   "cell_type": "code",
   "execution_count": 21,
   "metadata": {},
   "outputs": [],
   "source": [
    "equal_name_kcal_dict = pd.DataFrame(no_missing_data.groupby(\"name\").mean()[\"kcal\"]).to_dict()"
   ]
  },
  {
   "cell_type": "code",
   "execution_count": 22,
   "metadata": {},
   "outputs": [
    {
     "name": "stderr",
     "output_type": "stream",
     "text": [
      "/opt/conda/lib/python3.7/site-packages/pandas/core/indexing.py:494: SettingWithCopyWarning: \n",
      "A value is trying to be set on a copy of a slice from a DataFrame.\n",
      "Try using .loc[row_indexer,col_indexer] = value instead\n",
      "\n",
      "See the caveats in the documentation: http://pandas.pydata.org/pandas-docs/stable/user_guide/indexing.html#returning-a-view-versus-a-copy\n",
      "  self.obj[item] = s\n"
     ]
    }
   ],
   "source": [
    "for i in equal_name_kcal_dict[\"kcal\"].keys():\n",
    "    missing_data.loc[missing_data[\"name\"] == i, \"kcal\"] = equal_name_kcal_dict[\"kcal\"][i]"
   ]
  },
  {
   "cell_type": "code",
   "execution_count": 23,
   "metadata": {},
   "outputs": [
    {
     "name": "stdout",
     "output_type": "stream",
     "text": [
      "欠損メニュー数： 33\n"
     ]
    }
   ],
   "source": [
    "print (\"欠損メニュー数：\",missing_data[\"kcal\"].isnull().sum())"
   ]
  },
  {
   "cell_type": "markdown",
   "metadata": {},
   "source": [
    "#### その他はおいちゃん特性のメニュー分類で埋める"
   ]
  },
  {
   "cell_type": "code",
   "execution_count": 24,
   "metadata": {},
   "outputs": [
    {
     "name": "stdout",
     "output_type": "stream",
     "text": [
      "メニュー：カツ 411.10714285714283\n",
      "メニュー：カレー 410.0\n",
      "メニュー：ハンバーグ 408.8333333333333\n",
      "メニュー：中華 405.0408163265306\n",
      "メニュー：フライ 422.0\n",
      "メニュー：チキン 408.1666666666667\n",
      "メニュー：その他 406.0813953488372\n"
     ]
    }
   ],
   "source": [
    "for i in menu_:\n",
    "    equal_menu_mean = no_missing_data[no_missing_data[i] == 1][\"kcal\"].mean()\n",
    "    print (\"メニュー：{0} {1}\".format(i, equal_menu_mean))\n",
    "    missing_data.loc[(missing_data[i] == 1) & (missing_data[\"kcal\"].isnull()), \"kcal\"] = equal_menu_mean"
   ]
  },
  {
   "cell_type": "code",
   "execution_count": 25,
   "metadata": {},
   "outputs": [
    {
     "name": "stdout",
     "output_type": "stream",
     "text": [
      "欠損メニュー数： 0\n"
     ]
    }
   ],
   "source": [
    "print (\"欠損メニュー数：\",missing_data[\"kcal\"].isnull().sum())"
   ]
  },
  {
   "cell_type": "code",
   "execution_count": 26,
   "metadata": {},
   "outputs": [],
   "source": [
    "fin_dataset = pd.concat([no_missing_data, missing_data])"
   ]
  },
  {
   "cell_type": "code",
   "execution_count": 27,
   "metadata": {},
   "outputs": [],
   "source": [
    "fin_dataset = fin_dataset.sort_values(\"datetime\")"
   ]
  },
  {
   "cell_type": "code",
   "execution_count": 28,
   "metadata": {},
   "outputs": [],
   "source": [
    "fin_dataset.to_csv(\"dataset_df.csv\", index=False)"
   ]
  },
  {
   "cell_type": "markdown",
   "metadata": {},
   "source": [
    "## 後処理"
   ]
  },
  {
   "cell_type": "code",
   "execution_count": 29,
   "metadata": {},
   "outputs": [],
   "source": [
    "fin_train_data = fin_dataset[fin_dataset[\"data_flg\"] == 1].reset_index(drop=True)\n",
    "fin_train_data = fin_train_data.drop([\"name\", \"data_flg\"], axis=1)\n",
    "fin_test_data = fin_dataset[fin_dataset[\"data_flg\"] == 0].reset_index(drop=True)\n",
    "fin_test_data = fin_test_data.drop([\"name\", \"data_flg\", \"y\"], axis=1)"
   ]
  },
  {
   "cell_type": "code",
   "execution_count": 30,
   "metadata": {},
   "outputs": [],
   "source": [
    "from sklearn.model_selection import train_test_split"
   ]
  },
  {
   "cell_type": "code",
   "execution_count": 31,
   "metadata": {},
   "outputs": [],
   "source": [
    "train_data, val_data = train_test_split(fin_train_data, test_size=0.2, shuffle=False)"
   ]
  },
  {
   "cell_type": "code",
   "execution_count": 32,
   "metadata": {},
   "outputs": [
    {
     "name": "stdout",
     "output_type": "stream",
     "text": [
      "(165, 29)\n",
      "(42, 29)\n",
      "(40, 28)\n"
     ]
    }
   ],
   "source": [
    "print (train_data.shape)\n",
    "print (val_data.shape)\n",
    "print (fin_test_data.shape)"
   ]
  },
  {
   "cell_type": "code",
   "execution_count": 33,
   "metadata": {},
   "outputs": [],
   "source": [
    "train_data.to_csv(\"output_train_data.csv\", index=False)\n",
    "val_data.to_csv(\"output_val_data.csv\", index=False)\n",
    "fin_test_data.to_csv(\"output_test_data\", index=False)"
   ]
  },
  {
   "cell_type": "markdown",
   "metadata": {},
   "source": [
    "## カレンダーデータの作成"
   ]
  },
  {
   "cell_type": "code",
   "execution_count": 34,
   "metadata": {},
   "outputs": [],
   "source": [
    "import jpholiday\n",
    "import datetime"
   ]
  },
  {
   "cell_type": "code",
   "execution_count": 35,
   "metadata": {},
   "outputs": [],
   "source": [
    "jp_calendar_data = pd.DataFrame(index=pd.date_range(start='2013-11-4', end='2014-12-15', freq='1D'))"
   ]
  },
  {
   "cell_type": "code",
   "execution_count": 36,
   "metadata": {},
   "outputs": [
    {
     "data": {
      "text/plain": [
       "DatetimeIndex(['2013-11-04', '2013-11-05', '2013-11-06', '2013-11-07',\n",
       "               '2013-11-08', '2013-11-09', '2013-11-10', '2013-11-11',\n",
       "               '2013-11-12', '2013-11-13',\n",
       "               ...\n",
       "               '2014-12-06', '2014-12-07', '2014-12-08', '2014-12-09',\n",
       "               '2014-12-10', '2014-12-11', '2014-12-12', '2014-12-13',\n",
       "               '2014-12-14', '2014-12-15'],\n",
       "              dtype='datetime64[ns]', length=407, freq='D')"
      ]
     },
     "execution_count": 36,
     "metadata": {},
     "output_type": "execute_result"
    }
   ],
   "source": [
    "jp_calendar_data.index"
   ]
  },
  {
   "cell_type": "markdown",
   "metadata": {},
   "source": [
    "曜日"
   ]
  },
  {
   "cell_type": "code",
   "execution_count": 37,
   "metadata": {},
   "outputs": [],
   "source": [
    "jp_calendar_data['day_of_the_week'] = jp_calendar_data.index.map(lambda x: x.weekday_name)"
   ]
  },
  {
   "cell_type": "markdown",
   "metadata": {},
   "source": [
    "休日フラグ"
   ]
  },
  {
   "cell_type": "code",
   "execution_count": 38,
   "metadata": {},
   "outputs": [],
   "source": [
    "jp_calendar_data['holiday_flg'] = jp_calendar_data.index.map(lambda x: 1 if jp_calendar_data['day_of_the_week'][x] in ['Saturday', 'Sunday']  or jpholiday.is_holiday(x) else 0)"
   ]
  },
  {
   "cell_type": "markdown",
   "metadata": {},
   "source": [
    "休日名"
   ]
  },
  {
   "cell_type": "code",
   "execution_count": 39,
   "metadata": {},
   "outputs": [],
   "source": [
    "jp_calendar_data['holiday_name'] = jp_calendar_data.index.map(lambda x: jpholiday.is_holiday_name(x))"
   ]
  },
  {
   "cell_type": "markdown",
   "metadata": {},
   "source": [
    "休日からの経過日数"
   ]
  },
  {
   "cell_type": "code",
   "execution_count": 40,
   "metadata": {},
   "outputs": [
    {
     "name": "stderr",
     "output_type": "stream",
     "text": [
      "/opt/conda/lib/python3.7/site-packages/ipykernel_launcher.py:6: SettingWithCopyWarning: \n",
      "A value is trying to be set on a copy of a slice from a DataFrame\n",
      "\n",
      "See the caveats in the documentation: http://pandas.pydata.org/pandas-docs/stable/user_guide/indexing.html#returning-a-view-versus-a-copy\n",
      "  \n"
     ]
    }
   ],
   "source": [
    "jp_calendar_data['days_from_last_holiday'] = pd.Series()\n",
    "passed_days = 0\n",
    "for idx in jp_calendar_data.index:\n",
    "    if jp_calendar_data['holiday_flg'][idx]:\n",
    "        passed_days = 0\n",
    "    jp_calendar_data['days_from_last_holiday'][idx] = passed_days\n",
    "    passed_days += 1"
   ]
  },
  {
   "cell_type": "code",
   "execution_count": 41,
   "metadata": {},
   "outputs": [
    {
     "name": "stderr",
     "output_type": "stream",
     "text": [
      "/opt/conda/lib/python3.7/site-packages/ipykernel_launcher.py:6: SettingWithCopyWarning: \n",
      "A value is trying to be set on a copy of a slice from a DataFrame\n",
      "\n",
      "See the caveats in the documentation: http://pandas.pydata.org/pandas-docs/stable/user_guide/indexing.html#returning-a-view-versus-a-copy\n",
      "  \n",
      "/opt/conda/lib/python3.7/site-packages/ipykernel_launcher.py:9: SettingWithCopyWarning: \n",
      "A value is trying to be set on a copy of a slice from a DataFrame\n",
      "\n",
      "See the caveats in the documentation: http://pandas.pydata.org/pandas-docs/stable/user_guide/indexing.html#returning-a-view-versus-a-copy\n",
      "  if __name__ == '__main__':\n"
     ]
    }
   ],
   "source": [
    "jp_calendar_data['days_of_consecutive_holidays'] = pd.Series()\n",
    "passed_days = 0\n",
    "for idx in jp_calendar_data.index:\n",
    "    if jp_calendar_data['holiday_flg'][idx]:\n",
    "        passed_days += 1\n",
    "        jp_calendar_data['days_of_consecutive_holidays'][idx] = passed_days\n",
    "    else:\n",
    "        passed_days = 0\n",
    "        jp_calendar_data['days_of_consecutive_holidays'][idx] = passed_days"
   ]
  },
  {
   "cell_type": "code",
   "execution_count": 42,
   "metadata": {},
   "outputs": [
    {
     "data": {
      "text/html": [
       "<div>\n",
       "<style scoped>\n",
       "    .dataframe tbody tr th:only-of-type {\n",
       "        vertical-align: middle;\n",
       "    }\n",
       "\n",
       "    .dataframe tbody tr th {\n",
       "        vertical-align: top;\n",
       "    }\n",
       "\n",
       "    .dataframe thead th {\n",
       "        text-align: right;\n",
       "    }\n",
       "</style>\n",
       "<table border=\"1\" class=\"dataframe\">\n",
       "  <thead>\n",
       "    <tr style=\"text-align: right;\">\n",
       "      <th></th>\n",
       "      <th>day_of_the_week</th>\n",
       "      <th>holiday_flg</th>\n",
       "      <th>holiday_name</th>\n",
       "      <th>days_from_last_holiday</th>\n",
       "      <th>days_of_consecutive_holidays</th>\n",
       "    </tr>\n",
       "  </thead>\n",
       "  <tbody>\n",
       "    <tr>\n",
       "      <th>2013-11-04</th>\n",
       "      <td>Monday</td>\n",
       "      <td>1</td>\n",
       "      <td>文化の日 振替休日</td>\n",
       "      <td>0.0</td>\n",
       "      <td>1.0</td>\n",
       "    </tr>\n",
       "    <tr>\n",
       "      <th>2013-11-05</th>\n",
       "      <td>Tuesday</td>\n",
       "      <td>0</td>\n",
       "      <td>None</td>\n",
       "      <td>1.0</td>\n",
       "      <td>0.0</td>\n",
       "    </tr>\n",
       "    <tr>\n",
       "      <th>2013-11-06</th>\n",
       "      <td>Wednesday</td>\n",
       "      <td>0</td>\n",
       "      <td>None</td>\n",
       "      <td>2.0</td>\n",
       "      <td>0.0</td>\n",
       "    </tr>\n",
       "    <tr>\n",
       "      <th>2013-11-07</th>\n",
       "      <td>Thursday</td>\n",
       "      <td>0</td>\n",
       "      <td>None</td>\n",
       "      <td>3.0</td>\n",
       "      <td>0.0</td>\n",
       "    </tr>\n",
       "    <tr>\n",
       "      <th>2013-11-08</th>\n",
       "      <td>Friday</td>\n",
       "      <td>0</td>\n",
       "      <td>None</td>\n",
       "      <td>4.0</td>\n",
       "      <td>0.0</td>\n",
       "    </tr>\n",
       "  </tbody>\n",
       "</table>\n",
       "</div>"
      ],
      "text/plain": [
       "           day_of_the_week  holiday_flg holiday_name  days_from_last_holiday  \\\n",
       "2013-11-04          Monday            1    文化の日 振替休日                     0.0   \n",
       "2013-11-05         Tuesday            0         None                     1.0   \n",
       "2013-11-06       Wednesday            0         None                     2.0   \n",
       "2013-11-07        Thursday            0         None                     3.0   \n",
       "2013-11-08          Friday            0         None                     4.0   \n",
       "\n",
       "            days_of_consecutive_holidays  \n",
       "2013-11-04                           1.0  \n",
       "2013-11-05                           0.0  \n",
       "2013-11-06                           0.0  \n",
       "2013-11-07                           0.0  \n",
       "2013-11-08                           0.0  "
      ]
     },
     "execution_count": 42,
     "metadata": {},
     "output_type": "execute_result"
    }
   ],
   "source": [
    "jp_calendar_data.head()"
   ]
  },
  {
   "cell_type": "markdown",
   "metadata": {},
   "source": [
    "csvに保存"
   ]
  },
  {
   "cell_type": "code",
   "execution_count": 43,
   "metadata": {},
   "outputs": [],
   "source": [
    "jp_calendar_data.to_csv(\"./jp_calendar_data.csv\")"
   ]
  },
  {
   "cell_type": "markdown",
   "metadata": {},
   "source": [
    "# 予測"
   ]
  },
  {
   "cell_type": "code",
   "execution_count": 44,
   "metadata": {},
   "outputs": [],
   "source": [
    "from sklearn.preprocessing import StandardScaler\n",
    "from sklearn.model_selection import train_test_split\n",
    "from sklearn.linear_model import LinearRegression\n",
    "from sklearn.metrics import mean_squared_error\n",
    "import matplotlib.pyplot as plt\n",
    "import matplotlib.dates as mdates"
   ]
  },
  {
   "cell_type": "code",
   "execution_count": 45,
   "metadata": {},
   "outputs": [],
   "source": [
    "train_data = pd.read_csv(\"./output_train_data.csv\")\n",
    "val_data = pd.read_csv(\"./output_val_data.csv\")"
   ]
  },
  {
   "cell_type": "markdown",
   "metadata": {},
   "source": [
    "時間をインデックスにする"
   ]
  },
  {
   "cell_type": "code",
   "execution_count": 46,
   "metadata": {},
   "outputs": [],
   "source": [
    "train_data = train_data.set_index('datetime').sort_index()\n",
    "val_data = val_data.set_index('datetime').sort_index()"
   ]
  },
  {
   "cell_type": "code",
   "execution_count": 47,
   "metadata": {},
   "outputs": [
    {
     "data": {
      "text/html": [
       "<div>\n",
       "<style scoped>\n",
       "    .dataframe tbody tr th:only-of-type {\n",
       "        vertical-align: middle;\n",
       "    }\n",
       "\n",
       "    .dataframe tbody tr th {\n",
       "        vertical-align: top;\n",
       "    }\n",
       "\n",
       "    .dataframe thead th {\n",
       "        text-align: right;\n",
       "    }\n",
       "</style>\n",
       "<table border=\"1\" class=\"dataframe\">\n",
       "  <thead>\n",
       "    <tr style=\"text-align: right;\">\n",
       "      <th></th>\n",
       "      <th>y</th>\n",
       "      <th>soldout</th>\n",
       "      <th>kcal</th>\n",
       "      <th>weather</th>\n",
       "      <th>precipitation</th>\n",
       "      <th>temperature</th>\n",
       "      <th>月</th>\n",
       "      <th>木</th>\n",
       "      <th>水</th>\n",
       "      <th>火</th>\n",
       "      <th>...</th>\n",
       "      <th>キャリアアップ支援セミナー</th>\n",
       "      <th>ママの会</th>\n",
       "      <th>給料日経過日数</th>\n",
       "      <th>カツ</th>\n",
       "      <th>カレー</th>\n",
       "      <th>ハンバーグ</th>\n",
       "      <th>中華</th>\n",
       "      <th>フライ</th>\n",
       "      <th>チキン</th>\n",
       "      <th>その他</th>\n",
       "    </tr>\n",
       "    <tr>\n",
       "      <th>datetime</th>\n",
       "      <th></th>\n",
       "      <th></th>\n",
       "      <th></th>\n",
       "      <th></th>\n",
       "      <th></th>\n",
       "      <th></th>\n",
       "      <th></th>\n",
       "      <th></th>\n",
       "      <th></th>\n",
       "      <th></th>\n",
       "      <th></th>\n",
       "      <th></th>\n",
       "      <th></th>\n",
       "      <th></th>\n",
       "      <th></th>\n",
       "      <th></th>\n",
       "      <th></th>\n",
       "      <th></th>\n",
       "      <th></th>\n",
       "      <th></th>\n",
       "      <th></th>\n",
       "    </tr>\n",
       "  </thead>\n",
       "  <tbody>\n",
       "    <tr>\n",
       "      <th>2013-11-18</th>\n",
       "      <td>90.0</td>\n",
       "      <td>0</td>\n",
       "      <td>422.000000</td>\n",
       "      <td>1</td>\n",
       "      <td>0.0</td>\n",
       "      <td>19.8</td>\n",
       "      <td>1</td>\n",
       "      <td>0</td>\n",
       "      <td>0</td>\n",
       "      <td>0</td>\n",
       "      <td>...</td>\n",
       "      <td>0</td>\n",
       "      <td>0</td>\n",
       "      <td>11</td>\n",
       "      <td>0</td>\n",
       "      <td>0</td>\n",
       "      <td>0</td>\n",
       "      <td>0</td>\n",
       "      <td>1</td>\n",
       "      <td>0</td>\n",
       "      <td>0</td>\n",
       "    </tr>\n",
       "    <tr>\n",
       "      <th>2013-11-19</th>\n",
       "      <td>101.0</td>\n",
       "      <td>1</td>\n",
       "      <td>411.107143</td>\n",
       "      <td>1</td>\n",
       "      <td>0.0</td>\n",
       "      <td>17.0</td>\n",
       "      <td>0</td>\n",
       "      <td>0</td>\n",
       "      <td>0</td>\n",
       "      <td>1</td>\n",
       "      <td>...</td>\n",
       "      <td>0</td>\n",
       "      <td>0</td>\n",
       "      <td>12</td>\n",
       "      <td>1</td>\n",
       "      <td>0</td>\n",
       "      <td>0</td>\n",
       "      <td>0</td>\n",
       "      <td>0</td>\n",
       "      <td>0</td>\n",
       "      <td>0</td>\n",
       "    </tr>\n",
       "    <tr>\n",
       "      <th>2013-11-20</th>\n",
       "      <td>118.0</td>\n",
       "      <td>0</td>\n",
       "      <td>405.040816</td>\n",
       "      <td>1</td>\n",
       "      <td>0.0</td>\n",
       "      <td>15.5</td>\n",
       "      <td>0</td>\n",
       "      <td>0</td>\n",
       "      <td>1</td>\n",
       "      <td>0</td>\n",
       "      <td>...</td>\n",
       "      <td>0</td>\n",
       "      <td>0</td>\n",
       "      <td>13</td>\n",
       "      <td>0</td>\n",
       "      <td>0</td>\n",
       "      <td>0</td>\n",
       "      <td>1</td>\n",
       "      <td>0</td>\n",
       "      <td>0</td>\n",
       "      <td>0</td>\n",
       "    </tr>\n",
       "    <tr>\n",
       "      <th>2013-11-21</th>\n",
       "      <td>120.0</td>\n",
       "      <td>1</td>\n",
       "      <td>405.040816</td>\n",
       "      <td>1</td>\n",
       "      <td>0.0</td>\n",
       "      <td>15.2</td>\n",
       "      <td>0</td>\n",
       "      <td>1</td>\n",
       "      <td>0</td>\n",
       "      <td>0</td>\n",
       "      <td>...</td>\n",
       "      <td>0</td>\n",
       "      <td>0</td>\n",
       "      <td>14</td>\n",
       "      <td>0</td>\n",
       "      <td>0</td>\n",
       "      <td>0</td>\n",
       "      <td>1</td>\n",
       "      <td>0</td>\n",
       "      <td>0</td>\n",
       "      <td>0</td>\n",
       "    </tr>\n",
       "    <tr>\n",
       "      <th>2013-11-22</th>\n",
       "      <td>130.0</td>\n",
       "      <td>1</td>\n",
       "      <td>411.107143</td>\n",
       "      <td>1</td>\n",
       "      <td>0.0</td>\n",
       "      <td>16.1</td>\n",
       "      <td>0</td>\n",
       "      <td>0</td>\n",
       "      <td>0</td>\n",
       "      <td>0</td>\n",
       "      <td>...</td>\n",
       "      <td>0</td>\n",
       "      <td>0</td>\n",
       "      <td>15</td>\n",
       "      <td>1</td>\n",
       "      <td>0</td>\n",
       "      <td>0</td>\n",
       "      <td>0</td>\n",
       "      <td>0</td>\n",
       "      <td>0</td>\n",
       "      <td>0</td>\n",
       "    </tr>\n",
       "  </tbody>\n",
       "</table>\n",
       "<p>5 rows × 28 columns</p>\n",
       "</div>"
      ],
      "text/plain": [
       "                y  soldout        kcal  weather  precipitation  temperature  \\\n",
       "datetime                                                                      \n",
       "2013-11-18   90.0        0  422.000000        1            0.0         19.8   \n",
       "2013-11-19  101.0        1  411.107143        1            0.0         17.0   \n",
       "2013-11-20  118.0        0  405.040816        1            0.0         15.5   \n",
       "2013-11-21  120.0        1  405.040816        1            0.0         15.2   \n",
       "2013-11-22  130.0        1  411.107143        1            0.0         16.1   \n",
       "\n",
       "            月  木  水  火  ...  キャリアアップ支援セミナー  ママの会  給料日経過日数  カツ  カレー  ハンバーグ  中華  \\\n",
       "datetime                ...                                                     \n",
       "2013-11-18  1  0  0  0  ...              0     0       11   0    0      0   0   \n",
       "2013-11-19  0  0  0  1  ...              0     0       12   1    0      0   0   \n",
       "2013-11-20  0  0  1  0  ...              0     0       13   0    0      0   1   \n",
       "2013-11-21  0  1  0  0  ...              0     0       14   0    0      0   1   \n",
       "2013-11-22  0  0  0  0  ...              0     0       15   1    0      0   0   \n",
       "\n",
       "            フライ  チキン  その他  \n",
       "datetime                   \n",
       "2013-11-18    1    0    0  \n",
       "2013-11-19    0    0    0  \n",
       "2013-11-20    0    0    0  \n",
       "2013-11-21    0    0    0  \n",
       "2013-11-22    0    0    0  \n",
       "\n",
       "[5 rows x 28 columns]"
      ]
     },
     "execution_count": 47,
     "metadata": {},
     "output_type": "execute_result"
    }
   ],
   "source": [
    "train_data.head()"
   ]
  },
  {
   "cell_type": "markdown",
   "metadata": {},
   "source": [
    "説明変数と目的変数を分離する。"
   ]
  },
  {
   "cell_type": "code",
   "execution_count": 48,
   "metadata": {},
   "outputs": [],
   "source": [
    "features = train_data.columns[train_data.columns!='y'] # 説明変数\n",
    "X_train_data = train_data[features]\n",
    "y_train_data = train_data['y'].copy()"
   ]
  },
  {
   "cell_type": "code",
   "execution_count": 49,
   "metadata": {},
   "outputs": [],
   "source": [
    "X_val_data = val_data[val_data.columns[val_data.columns!='y']]\n",
    "y_val_data = val_data['y'].copy()"
   ]
  },
  {
   "cell_type": "code",
   "execution_count": 50,
   "metadata": {},
   "outputs": [
    {
     "data": {
      "text/html": [
       "<div>\n",
       "<style scoped>\n",
       "    .dataframe tbody tr th:only-of-type {\n",
       "        vertical-align: middle;\n",
       "    }\n",
       "\n",
       "    .dataframe tbody tr th {\n",
       "        vertical-align: top;\n",
       "    }\n",
       "\n",
       "    .dataframe thead th {\n",
       "        text-align: right;\n",
       "    }\n",
       "</style>\n",
       "<table border=\"1\" class=\"dataframe\">\n",
       "  <thead>\n",
       "    <tr style=\"text-align: right;\">\n",
       "      <th></th>\n",
       "      <th>soldout</th>\n",
       "      <th>kcal</th>\n",
       "      <th>weather</th>\n",
       "      <th>precipitation</th>\n",
       "      <th>temperature</th>\n",
       "      <th>月</th>\n",
       "      <th>木</th>\n",
       "      <th>水</th>\n",
       "      <th>火</th>\n",
       "      <th>金</th>\n",
       "      <th>...</th>\n",
       "      <th>キャリアアップ支援セミナー</th>\n",
       "      <th>ママの会</th>\n",
       "      <th>給料日経過日数</th>\n",
       "      <th>カツ</th>\n",
       "      <th>カレー</th>\n",
       "      <th>ハンバーグ</th>\n",
       "      <th>中華</th>\n",
       "      <th>フライ</th>\n",
       "      <th>チキン</th>\n",
       "      <th>その他</th>\n",
       "    </tr>\n",
       "    <tr>\n",
       "      <th>datetime</th>\n",
       "      <th></th>\n",
       "      <th></th>\n",
       "      <th></th>\n",
       "      <th></th>\n",
       "      <th></th>\n",
       "      <th></th>\n",
       "      <th></th>\n",
       "      <th></th>\n",
       "      <th></th>\n",
       "      <th></th>\n",
       "      <th></th>\n",
       "      <th></th>\n",
       "      <th></th>\n",
       "      <th></th>\n",
       "      <th></th>\n",
       "      <th></th>\n",
       "      <th></th>\n",
       "      <th></th>\n",
       "      <th></th>\n",
       "      <th></th>\n",
       "      <th></th>\n",
       "    </tr>\n",
       "  </thead>\n",
       "  <tbody>\n",
       "    <tr>\n",
       "      <th>2014-07-28</th>\n",
       "      <td>1</td>\n",
       "      <td>432.0</td>\n",
       "      <td>2</td>\n",
       "      <td>0</td>\n",
       "      <td>28.9</td>\n",
       "      <td>1</td>\n",
       "      <td>0</td>\n",
       "      <td>0</td>\n",
       "      <td>0</td>\n",
       "      <td>0</td>\n",
       "      <td>...</td>\n",
       "      <td>0</td>\n",
       "      <td>0</td>\n",
       "      <td>19</td>\n",
       "      <td>0</td>\n",
       "      <td>0</td>\n",
       "      <td>0</td>\n",
       "      <td>0</td>\n",
       "      <td>0</td>\n",
       "      <td>0</td>\n",
       "      <td>1</td>\n",
       "    </tr>\n",
       "    <tr>\n",
       "      <th>2014-07-29</th>\n",
       "      <td>0</td>\n",
       "      <td>449.0</td>\n",
       "      <td>2</td>\n",
       "      <td>0</td>\n",
       "      <td>30.4</td>\n",
       "      <td>0</td>\n",
       "      <td>0</td>\n",
       "      <td>0</td>\n",
       "      <td>1</td>\n",
       "      <td>0</td>\n",
       "      <td>...</td>\n",
       "      <td>0</td>\n",
       "      <td>0</td>\n",
       "      <td>20</td>\n",
       "      <td>0</td>\n",
       "      <td>0</td>\n",
       "      <td>0</td>\n",
       "      <td>0</td>\n",
       "      <td>0</td>\n",
       "      <td>1</td>\n",
       "      <td>0</td>\n",
       "    </tr>\n",
       "    <tr>\n",
       "      <th>2014-07-30</th>\n",
       "      <td>0</td>\n",
       "      <td>441.0</td>\n",
       "      <td>2</td>\n",
       "      <td>0</td>\n",
       "      <td>30.6</td>\n",
       "      <td>0</td>\n",
       "      <td>0</td>\n",
       "      <td>1</td>\n",
       "      <td>0</td>\n",
       "      <td>0</td>\n",
       "      <td>...</td>\n",
       "      <td>0</td>\n",
       "      <td>0</td>\n",
       "      <td>21</td>\n",
       "      <td>1</td>\n",
       "      <td>0</td>\n",
       "      <td>0</td>\n",
       "      <td>0</td>\n",
       "      <td>0</td>\n",
       "      <td>0</td>\n",
       "      <td>0</td>\n",
       "    </tr>\n",
       "    <tr>\n",
       "      <th>2014-07-31</th>\n",
       "      <td>0</td>\n",
       "      <td>386.0</td>\n",
       "      <td>2</td>\n",
       "      <td>0</td>\n",
       "      <td>32.5</td>\n",
       "      <td>0</td>\n",
       "      <td>1</td>\n",
       "      <td>0</td>\n",
       "      <td>0</td>\n",
       "      <td>0</td>\n",
       "      <td>...</td>\n",
       "      <td>0</td>\n",
       "      <td>0</td>\n",
       "      <td>22</td>\n",
       "      <td>0</td>\n",
       "      <td>0</td>\n",
       "      <td>0</td>\n",
       "      <td>0</td>\n",
       "      <td>0</td>\n",
       "      <td>0</td>\n",
       "      <td>1</td>\n",
       "    </tr>\n",
       "    <tr>\n",
       "      <th>2014-08-01</th>\n",
       "      <td>0</td>\n",
       "      <td>380.0</td>\n",
       "      <td>3</td>\n",
       "      <td>0</td>\n",
       "      <td>32.7</td>\n",
       "      <td>0</td>\n",
       "      <td>0</td>\n",
       "      <td>0</td>\n",
       "      <td>0</td>\n",
       "      <td>1</td>\n",
       "      <td>...</td>\n",
       "      <td>0</td>\n",
       "      <td>0</td>\n",
       "      <td>23</td>\n",
       "      <td>0</td>\n",
       "      <td>0</td>\n",
       "      <td>0</td>\n",
       "      <td>0</td>\n",
       "      <td>0</td>\n",
       "      <td>0</td>\n",
       "      <td>1</td>\n",
       "    </tr>\n",
       "  </tbody>\n",
       "</table>\n",
       "<p>5 rows × 27 columns</p>\n",
       "</div>"
      ],
      "text/plain": [
       "            soldout   kcal  weather  precipitation  temperature  月  木  水  火  \\\n",
       "datetime                                                                      \n",
       "2014-07-28        1  432.0        2              0         28.9  1  0  0  0   \n",
       "2014-07-29        0  449.0        2              0         30.4  0  0  0  1   \n",
       "2014-07-30        0  441.0        2              0         30.6  0  0  1  0   \n",
       "2014-07-31        0  386.0        2              0         32.5  0  1  0  0   \n",
       "2014-08-01        0  380.0        3              0         32.7  0  0  0  0   \n",
       "\n",
       "            金  ...  キャリアアップ支援セミナー  ママの会  給料日経過日数  カツ  カレー  ハンバーグ  中華  フライ  \\\n",
       "datetime       ...                                                          \n",
       "2014-07-28  0  ...              0     0       19   0    0      0   0    0   \n",
       "2014-07-29  0  ...              0     0       20   0    0      0   0    0   \n",
       "2014-07-30  0  ...              0     0       21   1    0      0   0    0   \n",
       "2014-07-31  0  ...              0     0       22   0    0      0   0    0   \n",
       "2014-08-01  1  ...              0     0       23   0    0      0   0    0   \n",
       "\n",
       "            チキン  その他  \n",
       "datetime              \n",
       "2014-07-28    0    1  \n",
       "2014-07-29    1    0  \n",
       "2014-07-30    0    0  \n",
       "2014-07-31    0    1  \n",
       "2014-08-01    0    1  \n",
       "\n",
       "[5 rows x 27 columns]"
      ]
     },
     "execution_count": 50,
     "metadata": {},
     "output_type": "execute_result"
    }
   ],
   "source": [
    "X_val_data.head()"
   ]
  },
  {
   "cell_type": "markdown",
   "metadata": {},
   "source": [
    "説明変数を標準化する"
   ]
  },
  {
   "cell_type": "code",
   "execution_count": 51,
   "metadata": {},
   "outputs": [],
   "source": [
    "scaler = StandardScaler()\n",
    "scaler.fit(X_train_data)\n",
    "X_train_data_scaled = pd.DataFrame(scaler.transform(X_train_data), columns=X_train_data.columns)\n",
    "X_val_data_scaled = pd.DataFrame(scaler.transform(X_val_data), columns=X_val_data.columns)"
   ]
  },
  {
   "cell_type": "code",
   "execution_count": 52,
   "metadata": {},
   "outputs": [
    {
     "data": {
      "text/html": [
       "<div>\n",
       "<style scoped>\n",
       "    .dataframe tbody tr th:only-of-type {\n",
       "        vertical-align: middle;\n",
       "    }\n",
       "\n",
       "    .dataframe tbody tr th {\n",
       "        vertical-align: top;\n",
       "    }\n",
       "\n",
       "    .dataframe thead th {\n",
       "        text-align: right;\n",
       "    }\n",
       "</style>\n",
       "<table border=\"1\" class=\"dataframe\">\n",
       "  <thead>\n",
       "    <tr style=\"text-align: right;\">\n",
       "      <th></th>\n",
       "      <th>soldout</th>\n",
       "      <th>kcal</th>\n",
       "      <th>weather</th>\n",
       "      <th>precipitation</th>\n",
       "      <th>temperature</th>\n",
       "      <th>月</th>\n",
       "      <th>木</th>\n",
       "      <th>水</th>\n",
       "      <th>火</th>\n",
       "      <th>金</th>\n",
       "      <th>...</th>\n",
       "      <th>キャリアアップ支援セミナー</th>\n",
       "      <th>ママの会</th>\n",
       "      <th>給料日経過日数</th>\n",
       "      <th>カツ</th>\n",
       "      <th>カレー</th>\n",
       "      <th>ハンバーグ</th>\n",
       "      <th>中華</th>\n",
       "      <th>フライ</th>\n",
       "      <th>チキン</th>\n",
       "      <th>その他</th>\n",
       "    </tr>\n",
       "  </thead>\n",
       "  <tbody>\n",
       "    <tr>\n",
       "      <th>0</th>\n",
       "      <td>-0.970143</td>\n",
       "      <td>0.603125</td>\n",
       "      <td>-1.16819</td>\n",
       "      <td>-0.194029</td>\n",
       "      <td>0.356035</td>\n",
       "      <td>2.121320</td>\n",
       "      <td>-0.518875</td>\n",
       "      <td>-0.518875</td>\n",
       "      <td>-0.490511</td>\n",
       "      <td>-0.5</td>\n",
       "      <td>...</td>\n",
       "      <td>-0.136083</td>\n",
       "      <td>-0.210485</td>\n",
       "      <td>-0.483411</td>\n",
       "      <td>-0.422577</td>\n",
       "      <td>-0.292449</td>\n",
       "      <td>-0.280056</td>\n",
       "      <td>-0.593683</td>\n",
       "      <td>4.750940</td>\n",
       "      <td>-0.280056</td>\n",
       "      <td>-0.765858</td>\n",
       "    </tr>\n",
       "    <tr>\n",
       "      <th>1</th>\n",
       "      <td>1.030776</td>\n",
       "      <td>0.225889</td>\n",
       "      <td>-1.16819</td>\n",
       "      <td>-0.194029</td>\n",
       "      <td>0.003812</td>\n",
       "      <td>-0.471405</td>\n",
       "      <td>-0.518875</td>\n",
       "      <td>-0.518875</td>\n",
       "      <td>2.038688</td>\n",
       "      <td>-0.5</td>\n",
       "      <td>...</td>\n",
       "      <td>-0.136083</td>\n",
       "      <td>-0.210485</td>\n",
       "      <td>-0.369301</td>\n",
       "      <td>2.366432</td>\n",
       "      <td>-0.292449</td>\n",
       "      <td>-0.280056</td>\n",
       "      <td>-0.593683</td>\n",
       "      <td>-0.210485</td>\n",
       "      <td>-0.280056</td>\n",
       "      <td>-0.765858</td>\n",
       "    </tr>\n",
       "    <tr>\n",
       "      <th>2</th>\n",
       "      <td>-0.970143</td>\n",
       "      <td>0.015802</td>\n",
       "      <td>-1.16819</td>\n",
       "      <td>-0.194029</td>\n",
       "      <td>-0.184879</td>\n",
       "      <td>-0.471405</td>\n",
       "      <td>-0.518875</td>\n",
       "      <td>1.927248</td>\n",
       "      <td>-0.490511</td>\n",
       "      <td>-0.5</td>\n",
       "      <td>...</td>\n",
       "      <td>-0.136083</td>\n",
       "      <td>-0.210485</td>\n",
       "      <td>-0.255191</td>\n",
       "      <td>-0.422577</td>\n",
       "      <td>-0.292449</td>\n",
       "      <td>-0.280056</td>\n",
       "      <td>1.684402</td>\n",
       "      <td>-0.210485</td>\n",
       "      <td>-0.280056</td>\n",
       "      <td>-0.765858</td>\n",
       "    </tr>\n",
       "    <tr>\n",
       "      <th>3</th>\n",
       "      <td>1.030776</td>\n",
       "      <td>0.015802</td>\n",
       "      <td>-1.16819</td>\n",
       "      <td>-0.194029</td>\n",
       "      <td>-0.222617</td>\n",
       "      <td>-0.471405</td>\n",
       "      <td>1.927248</td>\n",
       "      <td>-0.518875</td>\n",
       "      <td>-0.490511</td>\n",
       "      <td>-0.5</td>\n",
       "      <td>...</td>\n",
       "      <td>-0.136083</td>\n",
       "      <td>-0.210485</td>\n",
       "      <td>-0.141081</td>\n",
       "      <td>-0.422577</td>\n",
       "      <td>-0.292449</td>\n",
       "      <td>-0.280056</td>\n",
       "      <td>1.684402</td>\n",
       "      <td>-0.210485</td>\n",
       "      <td>-0.280056</td>\n",
       "      <td>-0.765858</td>\n",
       "    </tr>\n",
       "    <tr>\n",
       "      <th>4</th>\n",
       "      <td>1.030776</td>\n",
       "      <td>0.225889</td>\n",
       "      <td>-1.16819</td>\n",
       "      <td>-0.194029</td>\n",
       "      <td>-0.109402</td>\n",
       "      <td>-0.471405</td>\n",
       "      <td>-0.518875</td>\n",
       "      <td>-0.518875</td>\n",
       "      <td>-0.490511</td>\n",
       "      <td>2.0</td>\n",
       "      <td>...</td>\n",
       "      <td>-0.136083</td>\n",
       "      <td>-0.210485</td>\n",
       "      <td>-0.026971</td>\n",
       "      <td>2.366432</td>\n",
       "      <td>-0.292449</td>\n",
       "      <td>-0.280056</td>\n",
       "      <td>-0.593683</td>\n",
       "      <td>-0.210485</td>\n",
       "      <td>-0.280056</td>\n",
       "      <td>-0.765858</td>\n",
       "    </tr>\n",
       "  </tbody>\n",
       "</table>\n",
       "<p>5 rows × 27 columns</p>\n",
       "</div>"
      ],
      "text/plain": [
       "    soldout      kcal  weather  precipitation  temperature         月  \\\n",
       "0 -0.970143  0.603125 -1.16819      -0.194029     0.356035  2.121320   \n",
       "1  1.030776  0.225889 -1.16819      -0.194029     0.003812 -0.471405   \n",
       "2 -0.970143  0.015802 -1.16819      -0.194029    -0.184879 -0.471405   \n",
       "3  1.030776  0.015802 -1.16819      -0.194029    -0.222617 -0.471405   \n",
       "4  1.030776  0.225889 -1.16819      -0.194029    -0.109402 -0.471405   \n",
       "\n",
       "          木         水         火    金  ...  キャリアアップ支援セミナー      ママの会   給料日経過日数  \\\n",
       "0 -0.518875 -0.518875 -0.490511 -0.5  ...      -0.136083 -0.210485 -0.483411   \n",
       "1 -0.518875 -0.518875  2.038688 -0.5  ...      -0.136083 -0.210485 -0.369301   \n",
       "2 -0.518875  1.927248 -0.490511 -0.5  ...      -0.136083 -0.210485 -0.255191   \n",
       "3  1.927248 -0.518875 -0.490511 -0.5  ...      -0.136083 -0.210485 -0.141081   \n",
       "4 -0.518875 -0.518875 -0.490511  2.0  ...      -0.136083 -0.210485 -0.026971   \n",
       "\n",
       "         カツ       カレー     ハンバーグ        中華       フライ       チキン       その他  \n",
       "0 -0.422577 -0.292449 -0.280056 -0.593683  4.750940 -0.280056 -0.765858  \n",
       "1  2.366432 -0.292449 -0.280056 -0.593683 -0.210485 -0.280056 -0.765858  \n",
       "2 -0.422577 -0.292449 -0.280056  1.684402 -0.210485 -0.280056 -0.765858  \n",
       "3 -0.422577 -0.292449 -0.280056  1.684402 -0.210485 -0.280056 -0.765858  \n",
       "4  2.366432 -0.292449 -0.280056 -0.593683 -0.210485 -0.280056 -0.765858  \n",
       "\n",
       "[5 rows x 27 columns]"
      ]
     },
     "execution_count": 52,
     "metadata": {},
     "output_type": "execute_result"
    }
   ],
   "source": [
    "X_train_data_scaled.head()"
   ]
  },
  {
   "cell_type": "markdown",
   "metadata": {},
   "source": [
    "## 線形回帰"
   ]
  },
  {
   "cell_type": "markdown",
   "metadata": {},
   "source": [
    "学習モデルの作成"
   ]
  },
  {
   "cell_type": "code",
   "execution_count": 53,
   "metadata": {},
   "outputs": [],
   "source": [
    "lr = LinearRegression().fit(X_train_data_scaled, y_train_data)"
   ]
  },
  {
   "cell_type": "markdown",
   "metadata": {},
   "source": [
    "予測値の算出"
   ]
  },
  {
   "cell_type": "code",
   "execution_count": 54,
   "metadata": {},
   "outputs": [],
   "source": [
    "y_pred_train_data_lr = lr.predict(X_train_data_scaled)\n",
    "y_pred_val_data_lr = lr.predict(X_val_data_scaled)"
   ]
  },
  {
   "cell_type": "code",
   "execution_count": 55,
   "metadata": {},
   "outputs": [
    {
     "name": "stdout",
     "output_type": "stream",
     "text": [
      "学習データの決定係数：0.6065607037672311\n",
      "テストデータの決定係数：-0.13657632734284575\n",
      "モデルの説明変数の係数：[ 6.05097223e-01  5.32806276e+00 -4.94725388e+00  8.55776486e-01\n",
      " -2.04808393e+01  5.01522992e+00 -1.79036380e+00  5.48683093e-01\n",
      "  1.85867743e+00 -5.40405728e+00  1.09398757e+01  3.10862447e-15\n",
      " -4.44089210e-16 -8.84394576e-01  4.44089210e-16  1.37827664e-01\n",
      " -1.46598956e+00  3.37079354e-01 -9.92430263e-02  1.77317279e+00\n",
      "  1.41025042e+00  1.66420299e+00  2.62405460e+00  1.41777789e+00\n",
      " -1.35853828e+00 -2.62201535e+00 -2.62774767e+00]\n",
      "モデルのy切片：93.84242424242426\n"
     ]
    }
   ],
   "source": [
    "print(\"学習データの決定係数：{}\".format(lr.score(X_train_data_scaled, y_train_data)))\n",
    "print(\"テストデータの決定係数：{}\".format(lr.score(X_val_data_scaled, y_val_data)))\n",
    "print(\"モデルの説明変数の係数：{}\".format(lr.coef_))\n",
    "print(\"モデルのy切片：{}\".format(lr.intercept_))"
   ]
  },
  {
   "cell_type": "code",
   "execution_count": 56,
   "metadata": {},
   "outputs": [],
   "source": [
    "stem_df = pd.DataFrame({\"features\":features})\n",
    "stem_df[\"coef\"] = lr.coef_\n",
    "# stem_df"
   ]
  },
  {
   "cell_type": "code",
   "execution_count": 57,
   "metadata": {},
   "outputs": [
    {
     "data": {
      "image/png": "[encoded data removed]",
      "text/plain": [
       "<Figure size 1080x720 with 1 Axes>"
      ]
     },
     "metadata": {
      "needs_background": "light"
     },
     "output_type": "display_data"
    }
   ],
   "source": [
    "plt.subplots(figsize=(15,10))\n",
    "x = stem_df.features\n",
    "y = stem_df.coef\n",
    "\n",
    "x_position = np.arange(len(x))\n",
    "plt.barh(x_position, y, tick_label=x)\n",
    "plt.grid()\n",
    "plt.show()"
   ]
  },
  {
   "cell_type": "code",
   "execution_count": 58,
   "metadata": {},
   "outputs": [
    {
     "data": {
      "text/plain": [
       "<matplotlib.legend.Legend at 0x7f7eef5f9d50>"
      ]
     },
     "execution_count": 58,
     "metadata": {},
     "output_type": "execute_result"
    },
    {
     "data": {
      "image/png": "[encoded data removed]",
      "text/plain": [
       "<Figure size 2160x720 with 1 Axes>"
      ]
     },
     "metadata": {
      "needs_background": "light"
     },
     "output_type": "display_data"
    }
   ],
   "source": [
    "fig, ax = plt.subplots(figsize=(30,10))\n",
    "ax.plot(X_train_data.index, y_train_data, color='blue', label='実績')\n",
    "ax.plot(X_train_data.index, y_pred_train_data_lr, color='red', label='算出')\n",
    "ax.set_title('線形回帰＜学習区間＞', fontsize=30)\n",
    "\n",
    "ax.xaxis.set_major_locator(mdates.DayLocator())\n",
    "ax.xaxis.set_major_formatter(mdates.DateFormatter(\"%m-%d\"))\n",
    "\n",
    "ax.xaxis.set_minor_locator(mdates.HourLocator(byhour=range(0, 24, 12), tz=None))\n",
    "ax.xaxis.set_minor_formatter(mdates.DateFormatter(\"%H\"))\n",
    "\n",
    "labels = ax.get_xticklabels()\n",
    "plt.setp(labels, rotation=45, fontsize=10)\n",
    "\n",
    "ax.grid(which='major', axis='both', color='grey')\n",
    "ax.grid(which='minor', axis='x', linestyle='--', color='lightgrey')\n",
    "\n",
    "ax.axhline(linewidth=2, color='black')\n",
    "\n",
    "ax.legend(loc='upper right', fontsize=15)"
   ]
  },
  {
   "cell_type": "code",
   "execution_count": 59,
   "metadata": {},
   "outputs": [
    {
     "data": {
      "text/plain": [
       "<matplotlib.legend.Legend at 0x7f7eef5ddf10>"
      ]
     },
     "execution_count": 59,
     "metadata": {},
     "output_type": "execute_result"
    },
    {
     "data": {
      "image/png": "[encoded data removed]",
      "text/plain": [
       "<Figure size 2160x720 with 1 Axes>"
      ]
     },
     "metadata": {
      "needs_background": "light"
     },
     "output_type": "display_data"
    }
   ],
   "source": [
    "fig, ax = plt.subplots(figsize=(30,10))\n",
    "ax.plot(X_val_data.index, y_val_data, color='blue', label='実績')\n",
    "ax.plot(X_val_data.index, y_pred_val_data_lr, color='red', label='算出')\n",
    "ax.set_title('線形回帰＜テスト区間＞', fontsize=30)\n",
    "\n",
    "ax.xaxis.set_major_locator(mdates.DayLocator())\n",
    "ax.xaxis.set_major_formatter(mdates.DateFormatter(\"%m-%d\"))\n",
    "\n",
    "ax.xaxis.set_minor_locator(mdates.HourLocator(byhour=range(0, 24, 12), tz=None))\n",
    "ax.xaxis.set_minor_formatter(mdates.DateFormatter(\"%H\"))\n",
    "\n",
    "labels = ax.get_xticklabels()\n",
    "plt.setp(labels, rotation=45, fontsize=10)\n",
    "\n",
    "ax.grid(which='major', axis='both', color='grey')\n",
    "ax.grid(which='minor', axis='x', linestyle='--', color='lightgrey')\n",
    "\n",
    "ax.axhline(linewidth=2, color='black')\n",
    "\n",
    "ax.legend(loc='upper right', fontsize=15)"
   ]
  },
  {
   "cell_type": "code",
   "execution_count": 60,
   "metadata": {},
   "outputs": [
    {
     "name": "stdout",
     "output_type": "stream",
     "text": [
      "学習区間：395.9952281956308\n",
      "テスト区間：386.54741824930574\n"
     ]
    }
   ],
   "source": [
    "print(\"学習区間：{}\".format(mean_squared_error(y_train_data, y_pred_train_data_lr)))\n",
    "print(\"テスト区間：{}\".format(mean_squared_error(y_val_data, y_pred_val_data_lr)))"
   ]
  },
  {
   "cell_type": "code",
   "execution_count": null,
   "metadata": {},
   "outputs": [],
   "source": []
  }
 ],
 "metadata": {
  "kernelspec": {
   "display_name": "Python 3",
   "language": "python",
   "name": "python3"
  },
  "language_info": {
   "codemirror_mode": {
    "name": "ipython",
    "version": 3
   },
   "file_extension": ".py",
   "mimetype": "text/x-python",
   "name": "python",
   "nbconvert_exporter": "python",
   "pygments_lexer": "ipython3",
   "version": "3.7.6"
  }
 },
 "nbformat": 4,
 "nbformat_minor": 4
}
